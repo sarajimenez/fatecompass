{
 "cells": [
  {
   "cell_type": "markdown",
   "id": "37685995-cd3e-4bb6-85e9-790d4c786b34",
   "metadata": {},
   "source": [
    "# FateCompass - basics using differentiation potential "
   ]
  },
  {
   "cell_type": "markdown",
   "id": "7531c6db-5f8d-4ab1-ad7a-89198df6c559",
   "metadata": {},
   "source": [
    "Here you will be guided through the basics of how to implement the FateCompass pipeline. \n",
    "\n",
    "First of all, FateCompass has two main inputs:\n",
    "\n",
    "1. pre-preprocessed anndata object with annotated cell types and  \n",
    "a. RNA velocities – in case you have a coherent profile, or  \n",
    "b. **prior knowledge on initial and final fates**  \n",
    "2. binding sites matrix. We provide pre-computed binding sites matrices for human and mouse using computationally predicted binding sites from the [SwissRegulon](https://swissregulon.unibas.ch/sr/) database.\n",
    "\n",
    "This example is applied to *in vitro* pancreatic $\\beta$ cell differentiation. **In this dataset, the RNA velocity profile was pointing towards the wrong direction; but we have prior knowledge about the initial (NKX6-1 progenitors) and final fates (SC-$\\alpha$, SC-$\\beta$, and SC-EC -cells)**. See [here](https://doi.org/10.1038/s41586-019-1168-5) for more details.  "
   ]
  },
  {
   "cell_type": "code",
   "execution_count": 1,
   "id": "d107fc3f-a05a-4f42-b6c0-7bcee8ebfd5a",
   "metadata": {},
   "outputs": [],
   "source": [
    "import pandas as pd\n",
    "import numpy as np\n",
    "import scanpy as sc\n",
    "import scanpy.external as sce\n",
    "import scvelo as scv\n",
    "import cellrank as cr\n",
    "import matplotlib.pyplot as plt"
   ]
  },
  {
   "cell_type": "code",
   "execution_count": 2,
   "id": "1890362b-6e48-46ac-a490-f9a77f2d0cf7",
   "metadata": {},
   "outputs": [],
   "source": [
    "scv.settings.verbosity = 3\n",
    "scv.settings.set_figure_params(\"scvelo\")\n",
    "cr.settings.verbosity = 2\n",
    "\n",
    "%matplotlib inline"
   ]
  },
  {
   "cell_type": "markdown",
   "id": "091f0d0a-2d22-413c-8897-d978f433da00",
   "metadata": {},
   "source": [
    "### Load data"
   ]
  },
  {
   "cell_type": "markdown",
   "id": "dc16a1bb-47f8-4370-9832-d9a2e3a9bfd6",
   "metadata": {},
   "source": [
    "1. Annotated AnnData object  \n",
    "\n",
    "**FateCompass** expects annotations of at least the celltypes (clustering). For downstream pre-processing we advise to use the guidelines of [scanpy](https://scanpy.readthedocs.io/en/stable/api.html#)."
   ]
  },
  {
   "cell_type": "code",
   "execution_count": 3,
   "id": "67a71b17-325c-4a53-89f5-d33dc1b2113c",
   "metadata": {},
   "outputs": [
    {
     "data": {
      "text/plain": [
       "AnnData object with n_obs × n_vars = 25299 × 16129\n",
       "    obs: 'CellBatch', 'CellDay', 'CellFlask', 'DetailedLabels', 'Labels', '_TrainFilter', '_Valid', 'barcode_sequence', 'n_genes', 'n_counts'\n",
       "    var: '_Valid', 'n_cells', 'highly_variable', 'means', 'dispersions', 'dispersions_norm'\n",
       "    uns: 'Labels_colors', 'hvg', 'neighbors', 'nodes_fatecompass', 'pca', 'umap'\n",
       "    obsm: 'TSNE', 'X_pca', 'X_tsne', 'X_umap'\n",
       "    varm: 'PCs'\n",
       "    layers: 'Ms', 'Mu', 'spliced', 'unspliced'\n",
       "    obsp: 'connectivities', 'distances'"
      ]
     },
     "execution_count": 3,
     "metadata": {},
     "output_type": "execute_result"
    }
   ],
   "source": [
    "adata = scv.read('../../Data/scrnaseq/pancreas/veres2019_stage5_timecourse.h5ad', cache=True)\n",
    "adata"
   ]
  },
  {
   "cell_type": "markdown",
   "id": "5e2d92c2-19fc-4a71-b12b-37077ab347ef",
   "metadata": {},
   "source": [
    "2. Binding site matrix    \n",
    "\n",
    "This consist of a table where the columns are the TFs or motifs and the rows are the genes. Hence, each entry $n_{ij}$ corresponds to the binding sites of the TF $j$ in the regulatory region of the gene $j$. It can be read as a pandas data frame where the index are the gene names and the columns the TF names.  "
   ]
  },
  {
   "cell_type": "code",
   "execution_count": 4,
   "id": "c706f43d-c430-466e-83b0-0b37958e3972",
   "metadata": {},
   "outputs": [
    {
     "name": "stdout",
     "output_type": "stream",
     "text": [
      "<class 'pandas.core.frame.DataFrame'>\n",
      "Index: 9652 entries, FAM41C to RPS4Y2\n",
      "Columns: 339 entries, AHR_ARNT2 to ZNF8\n",
      "dtypes: float64(339)\n",
      "memory usage: 25.0+ MB\n"
     ]
    }
   ],
   "source": [
    "#filename = '../../Data/binding_sites/human/hg19_BSperFamily.csv'\n",
    "filename = 'data/binding_sites/binding_sites_human.csv'\n",
    "bs = pd.read_csv(filename, index_col=0, header=0,sep=';')\n",
    "bs.info()"
   ]
  },
  {
   "cell_type": "markdown",
   "id": "bab8da2c-4a5a-47d3-9e8c-4769d161a196",
   "metadata": {},
   "source": [
    "### Data pre-processing for TF activity estimation"
   ]
  },
  {
   "cell_type": "markdown",
   "id": "f7943dce",
   "metadata": {},
   "source": [
    "The scanpy functions normalize and filter the data as follows:  \n",
    "- `sc.pp.normalize_total` normalize each cell such that they have the same total count.  \n",
    "- `sc.pp.log1p` log normalize the gene expression.  \n",
    "- `scv.pp.filter_genes_dispersion` filter to keep top n variable genes. We suggest using `n_top_genes=10000`."
   ]
  },
  {
   "cell_type": "code",
   "execution_count": null,
   "id": "5b233a1b-1ecb-442b-9b73-fea8ee1e7eb7",
   "metadata": {},
   "outputs": [],
   "source": [
    "# SKIP this if your anndata object is already pre-processed!!!\n",
    "sc.pp.normalize_total(adata, target_sum=1e4)\n",
    "sc.pp.log1p(adata) \n",
    "scv.pp.filter_genes_dispersion(adata, n_top_genes=10000)"
   ]
  },
  {
   "cell_type": "markdown",
   "id": "f84152aa-d4f0-4e34-9e91-1e772c96e71a",
   "metadata": {},
   "source": [
    "### Nearest neighbor graph representing the phenotypic manifold"
   ]
  },
  {
   "cell_type": "markdown",
   "id": "b4ed87eb-dbff-4afc-8009-badaf1d9baa1",
   "metadata": {},
   "source": [
    "The **FateCompass** function `graph_fatecompass` builds a nearest neighbor graph in a reduced space.  \n",
    "For more detailed information about the graph, follow the **advanced mode tutorial**.  \n",
    "\n",
    "The inputs for the `graph_fatecompass` function are:  \n",
    "1. **adata**: pre-proccessed and log normalized anndata object. \n",
    "2. **mode**: which drift will you use for the transition probabilities. In this notebook we used **'potential'**.\n",
    "3. **basis**: dimensionality reduction method to compute the nearest neighbor graph.\n",
    "4. **components**: number of components to compute the nearest neighbor graph. \n",
    "5. **n_neighbors**: number of nearest neighbors.  \n",
    "\n",
    "The output is the neighbor graph ('distances_fatecompass' and 'indices_fatecompass') stored in the anndata object: `adata.obsm`."
   ]
  },
  {
   "cell_type": "code",
   "execution_count": null,
   "id": "01347d27-40a7-4036-9739-a50a8c810bee",
   "metadata": {},
   "outputs": [],
   "source": [
    "mode = 'potential'\n",
    "basis = 'umap'\n",
    "components = 10\n",
    "n_neighbors = 50"
   ]
  },
  {
   "cell_type": "code",
   "execution_count": null,
   "id": "c844c8bd-3847-4763-8907-45eea7833165",
   "metadata": {},
   "outputs": [],
   "source": [
    "from fatecompass import graph_fatecompass\n",
    "graph_fatecompass(adata, mode, basis, components, n_neighbors)"
   ]
  },
  {
   "cell_type": "markdown",
   "id": "c4d789ac-a91a-4313-842b-670dbeef7481",
   "metadata": {},
   "source": [
    "### Prior biological knowledge on progenitor cells and final fates "
   ]
  },
  {
   "cell_type": "markdown",
   "id": "a49f960c-38bf-4107-8004-3b28d3c4718c",
   "metadata": {},
   "source": [
    "The differentiation potential way for inferring dynamics relies on prior biological knowledge about the initial and final fates. This could be provided to the **FateCompass** function `diff_potential_driven_stochastic_simulations` in **three different flavors**; the flavor is specified to the function via the `mode` parameter. \n",
    "\n",
    "**1.** `cell_types:` in this mode, you will specify which cell type is the initial and which cell types are the final.  \n",
    "a. `initial_fate = ['name_initial_cell_type']`  \n",
    "b. `end_fates = ['name_final_cell_type_1',...]`  \n",
    "**2.** `marker_genes:` in this mode, you will specify marker genes with a very clear distinctive expression profile in the initial and final fates.  \n",
    "a. `initial_fate = ['marker_gene_initial_cell_type']`  \n",
    "b. `end_fates = ['marker_gene_final_cell_type_1',...]`  \n",
    "**3.** `prior_knowledge_indices:` in this mode, you will annotate the anndata object prior running the function with the indices of the cells that correspond to the initial and final fates.  \n",
    "a. `adata.uns['nodes_fatecompass'][0]:` Index of the initial fate.  \n",
    "b. `adata.uns['nodes_fatecompass'][1:]:` Indices of the final fates. "
   ]
  },
  {
   "cell_type": "code",
   "execution_count": null,
   "id": "2c810a3e-fc5a-4f1b-aa95-8c7e51956d6a",
   "metadata": {},
   "outputs": [],
   "source": [
    "mode = 'prior_knowledge_indices'\n",
    "initial_fate = []#'prog_nkx61'#'SOX9'\n",
    "end_fates = []#['scbeta','ph','ec']#['NPTX2','GCG','ADRA2A']"
   ]
  },
  {
   "cell_type": "markdown",
   "id": "cf5cf308-38be-4758-9131-9c3997608e7e",
   "metadata": {},
   "source": [
    "### Cell-fate decision dynamics using differentiation potential as direction of differentiation"
   ]
  },
  {
   "cell_type": "markdown",
   "id": "1ea8ff8e-ab0e-4fd9-aab4-dc852db0147a",
   "metadata": {},
   "source": [
    "The **FateCompass** function `diff_potential_driven_stochastic_simulations` infers transition probabilities using a Markov process on a network, limiting the transitions to the observable states (cells). In this situation, the drift for the transitions is an energy gradient of the form:  \n",
    "\n",
    "\\begin{equation}\n",
    "W_{i} = \\sum_k \\frac{Q_k}{(distance(x_i,x_k)+1)^{n}}  \n",
    "\\end{equation}  \n",
    "\n",
    "where $W_i$ is the potential energy of a given state; $k$ are the indices of initial and final states; $Q_k$ are the attraction or repultion coefficients to end-states and initial-state, respectively; $distance(x_i,x_k)$ is the shortest path length between a state $i$ and a given initial or final state $k$. The values of $Q$ and $n$ are determined heuristically such that the potential energy gradient is high enough for the initial states to be phenotypically distinct from the final states. Then, using the transition probabilities, the **FateCompass** function `diff_potential_driven_stochastic_simulations` performs stochastic simulations using a Monte Carlo sampling algorithm.  \n",
    "\n",
    "The inputs for the `rna_velocity_driven_stochastic_simulations` function are:  \n",
    "1. **adata**: pre-proccessed and log normalized anndata object.  \n",
    "2. **cell_types_key**: key of the observations clustering to consider.  \n",
    "3. **mode**: way for providing prior biological knowledge.  \n",
    "4. **initial_fate**: information about the initial fate, it'll depend on the selected `mode`. It can be `['name_initial_cell_type']`, `['marker_gene_initial_cell_type']`, or `[]`.  \n",
    "5. **end_fates**: information about the final fate, it'll depend on the selected `mode`. It can be `['name_final_cell_type_1',...]`, `['marker_gene_final_cell_type_1',...]`, or `[]`.  \n",
    "6. **numiter**: number of iterations for the Monte Carlo sampling algortihm. Default: 2000.\n",
    "7. **numsimcells**: number of trajectories to simulate. Default: 1000.  \n",
    "\n",
    "The output are the differentiation trajectories ('states' and 'num_trajectories') stored in the anndata object: `adata.uns`, and the differentiation potential also stored in the anndata object: `adata.obs['potential']`.  "
   ]
  },
  {
   "cell_type": "code",
   "execution_count": null,
   "id": "6c42fe37-ebd6-4de2-8b19-468d6614a262",
   "metadata": {},
   "outputs": [],
   "source": [
    "from fatecompass import diff_potential_driven_stochastic_simulations\n",
    "diff_potential_driven_stochastic_simulations(adata, cell_types_key='Labels', mode='prior_knowledge_indices', \n",
    "                                             initial_fate=[], end_fates=[], numiter=2000, numsimcells=1000)\n",
    "#~ 3min"
   ]
  },
  {
   "cell_type": "markdown",
   "id": "2170bf95",
   "metadata": {},
   "source": [
    "The number of trajectories ending in the given fates can be checked in: `adata.uns['num_trajectories']`"
   ]
  },
  {
   "cell_type": "code",
   "execution_count": null,
   "id": "59966486",
   "metadata": {},
   "outputs": [],
   "source": [
    "adata.uns['num_trajectories']"
   ]
  },
  {
   "cell_type": "markdown",
   "id": "76353f63-8850-41de-bb41-db37e85a50f7",
   "metadata": {},
   "source": [
    "The differentiation potential can be visualized using the basic plotting functions of scanpy. "
   ]
  },
  {
   "cell_type": "code",
   "execution_count": null,
   "id": "c63c5578-ac4a-471c-8569-c92ab61ce938",
   "metadata": {},
   "outputs": [],
   "source": [
    "sc.pl.umap(adata, color='potential', frameon=False,cmap='RdBu_r')"
   ]
  },
  {
   "cell_type": "markdown",
   "id": "2438f5f8-08fe-429a-8ea3-d54520401bdc",
   "metadata": {},
   "source": [
    "The stochastic trajectories can be visualized using the **FateCompass** function `plot_sim_cell`. This will provide the trajectory of a given simulated cell. "
   ]
  },
  {
   "cell_type": "code",
   "execution_count": null,
   "id": "5a9af029-0010-4c7d-993c-341277499cc8",
   "metadata": {},
   "outputs": [],
   "source": [
    "mycell = adata.uns['states'][:,115]"
   ]
  },
  {
   "cell_type": "code",
   "execution_count": null,
   "id": "46b98635-1e78-4b42-af98-12dd9fc0d72d",
   "metadata": {},
   "outputs": [],
   "source": [
    "from fatecompass import plot_sim_cell\n",
    "plot_sim_cell(adata, 'umap',mycell, color = 'Labels')"
   ]
  },
  {
   "cell_type": "markdown",
   "id": "7956cbbf-e9c0-4fab-9e3a-cb1406a2341b",
   "metadata": {},
   "source": [
    "### TF activity estimation using a linear model of gene regulation"
   ]
  },
  {
   "cell_type": "markdown",
   "id": "68f55566-3628-4abe-a088-d640d0bebc0c",
   "metadata": {},
   "source": [
    "The FateCompass function `tf_activities` fits TF activities from the gene expression data using the following linear model of gene regulation:  \n",
    "\n",
    "\\begin{equation}\n",
    "E_{gc} = \\sum_f(N_{gf} * A_{fc}) + noise     \n",
    "\\end{equation}\n",
    "\n",
    "where $E_{gc}$ is the gene expression matrix, $N_{gf}$ is the binding sites matrix –each entry represents the probability of binding of the TF $f$ in the promoter region of the gene $g$–, and $A_{fc}$ is the TF activity matrix. To account for the noise, the function implements a data diffusion regularization, where the main assumption is that the activity of similar cells should be similar. Then, the learned activities are diffused in the nearest neighbor graph. The diffusion time is fitted using a cross-validation scheme. Finally, the distribution of the TF activities is learned using a bootstrapping strategy.  \n",
    "<br>\n",
    "\n",
    "The inputs for the `tf_activities` function are: \n",
    "1. **adata**: pre-proccessed and log normalized anndata object\n",
    "2. **bs**: binding sites matrix. Data frame with rows equal genes and columns equal TFs. \n",
    "3. **tolerance**: minimum difference between the test and training datasets used in the cross-validation scheme. Default 1e-2.  \n",
    "\n",
    "The output are the TF activies and their distribution ('tf_activities' and 'tf_activities_distribution') stored in the anndata object: `adata.uns`  \n"
   ]
  },
  {
   "cell_type": "code",
   "execution_count": null,
   "id": "22ab477c-8ffb-4d08-a81d-f9606ce03aa0",
   "metadata": {},
   "outputs": [],
   "source": [
    "from fatecompass import tf_activities #13:07\n",
    "tf_activities(adata, bs, tolerance = 1.5e-3)#~2h "
   ]
  },
  {
   "cell_type": "markdown",
   "id": "0e04a56a-72e5-4543-b824-2ddcabd56a68",
   "metadata": {},
   "source": [
    "The TF activities can be visualized using the basic plotting functions of scanpy. For doing that, add to `adata.obs` the value of the TF activities you wish to visualize.  \n",
    "\n",
    "To check the complete list of TF family names run: `list(bs.columns)`"
   ]
  },
  {
   "cell_type": "code",
   "execution_count": null,
   "id": "053c6c2b-f8c7-488f-a588-5fe26717f43e",
   "metadata": {},
   "outputs": [],
   "source": [
    "adata.obs['nkx6-1_act'] = adata.uns['tf_activities'].loc[:,'NOTO_VSX2_DLX2_DLX6_NKX6-1']\n",
    "adata.obs['isl1_act'] = adata.uns['tf_activities'].loc[:,'ISL1']"
   ]
  },
  {
   "cell_type": "code",
   "execution_count": null,
   "id": "873e5a8a-bedf-429e-b79a-7b7b6dba042f",
   "metadata": {},
   "outputs": [],
   "source": [
    "sc.pl.umap(adata, color=['nkx6-1_act','isl1_act'], frameon=False, cmap='RdBu_r')"
   ]
  },
  {
   "cell_type": "markdown",
   "id": "6c35e961-cd67-4a08-97e2-b19848fd4e1e",
   "metadata": {},
   "source": [
    "The activity of **all** the TFs can be visualized using `clustermap` from the *seaborn* library as follows:"
   ]
  },
  {
   "cell_type": "code",
   "execution_count": null,
   "id": "736518d3-39d1-42b5-9221-c0376e7263f7",
   "metadata": {},
   "outputs": [],
   "source": [
    "import seaborn as sns\n",
    "import matplotlib.pyplot as plt"
   ]
  },
  {
   "cell_type": "code",
   "execution_count": null,
   "id": "1a669d3d-4930-40a8-954b-6b0b8c992553",
   "metadata": {},
   "outputs": [],
   "source": [
    "df=adata.uns['tf_activities']\n",
    "df['Labels']=adata.obs['Labels'].values\n",
    "\n",
    "clusters = df['Labels']\n",
    "keys = adata.obs['Labels'].cat.categories\n",
    "values = adata.uns['Labels_colors']\n",
    "\n",
    "lut1 = {keys[i]: values[i] for i in range(len(keys))}\n",
    "col_colors1 = clusters.map(lut1)\n",
    "\n",
    "df = df.drop(['Labels'], axis=1)"
   ]
  },
  {
   "cell_type": "code",
   "execution_count": null,
   "id": "04a10ab4-ad0f-4d3c-a4e4-451f44533c83",
   "metadata": {},
   "outputs": [],
   "source": [
    "sns.set(font_scale=1.0)\n",
    "g=sns.clustermap(df.T,col_cluster=True,row_cluster=True, col_colors=col_colors1,\n",
    "                 cmap='RdBu_r',z_score=0,yticklabels=True,figsize=(20, 30))\n",
    "ax = g.ax_heatmap\n",
    "g.cax.set_visible(False)\n",
    "g.ax_cbar.set_visible(True,)\n",
    "ax.set_xticks([])\n",
    "ax.set_xticklabels([])\n",
    "plt.show()"
   ]
  },
  {
   "cell_type": "markdown",
   "id": "f59a2e74-4670-4339-890e-f15583ab884e",
   "metadata": {},
   "source": [
    "### Average gene expression and activity profiles over stochastic trajectories"
   ]
  },
  {
   "cell_type": "markdown",
   "id": "dea40e8d-56a7-4d09-ae6a-b80aa72d4926",
   "metadata": {},
   "source": [
    "The **FateCompass** function `avg_profiles_over_trajectories` uses the stochactic tracjectories previously generated (stored in `adata.uns['states']`) to approximate the expected value of the mean and the standard error of the mean (sem).  \n",
    "\n",
    "The inputs for the `avg_profiles_over_trajectories` are:  \n",
    "1. **adata**: pre-proccessed and log normalized anndata object.  \n",
    "2. **cell_types_key**: key of the observations clustering to consider.  \n",
    "\n",
    "The outputs are the **mean** and **sem** of the gene expression ('mean_E', and 'sem_E') and activity ('mean_A', and 'sem_S') profiles stored in the anndata object: `adata.uns`."
   ]
  },
  {
   "cell_type": "code",
   "execution_count": null,
   "id": "d836034c-a2aa-49c6-9366-757fa0bdc2b9",
   "metadata": {},
   "outputs": [],
   "source": [
    "from fatecompass import avg_profiles_over_trajectories\n",
    "\n",
    "avg_profiles_over_trajectories(adata, cell_types_key='Labels')"
   ]
  },
  {
   "cell_type": "code",
   "execution_count": null,
   "id": "4769ea0b-16f8-4e0d-88a3-952e84ecbf4a",
   "metadata": {},
   "outputs": [],
   "source": [
    "from fatecompass import plot_trajectory\n",
    "plot_trajectory(adata, mode ='mRNA' ,variable=['NKX6-1'], cell_types_key='Labels', trajectory=['scbeta','ec','ph'])"
   ]
  },
  {
   "cell_type": "code",
   "execution_count": null,
   "id": "e768630c-f9e6-43ea-9dfa-25cd26b5c21a",
   "metadata": {},
   "outputs": [],
   "source": [
    "plot_trajectory(adata, mode ='activity' ,variable=['NOTO_VSX2_DLX2_DLX6_NKX6-1'], cell_types_key='Labels', trajectory=['scbeta','ec','ph'])"
   ]
  },
  {
   "cell_type": "code",
   "execution_count": null,
   "id": "18035dba-43af-4ba8-a836-f675d916a082",
   "metadata": {},
   "outputs": [],
   "source": [
    "plot_trajectory(adata, mode ='activity' ,variable=['ISL1'], cell_types_key='Labels', trajectory=['scbeta','ec','ph'])"
   ]
  },
  {
   "cell_type": "markdown",
   "id": "24460d51",
   "metadata": {},
   "source": [
    "### Differential TF activity analysis  "
   ]
  },
  {
   "cell_type": "markdown",
   "id": "53572d69",
   "metadata": {},
   "source": [
    "The **FateCompass** function `differential_tf_activity` computes three criteria to guide the identification of lineage-specific regulators. The criteria are:  \n",
    "\n",
    "1. **z-score**: it can be interpreted as the number of standard deviations that the activity of a TF is away from its average of zero corrected by the precision of the estimation (a.k.a. error bar).  \n",
    "2. **Variability over time**: it can be interpreted ad the rate of change of the TF activity over simulated time. FateCompass gets a proxy of this by computing the standard deviation of the TF activity over the stochastic trajectories.  \n",
    "3. **Dynamic correlation**: this is the cross-correlation between the TF activity and the average gene expression profile of the TF transcript. \n",
    "\n",
    "The inputs for `differential_tf_activity` are:  \n",
    "1. **adata**: pre-proccessed and log normalized anndata object.  \n",
    "2. **cell_types_key**: key of the observations clustering to consider.  \n",
    "\n",
    "The outputs are the 'z_score', 'std_tf_time', 'cross_corr' and 'time_lags' stored in the anndata object: `adata.uns`."
   ]
  },
  {
   "cell_type": "code",
   "execution_count": null,
   "id": "c07c32b6",
   "metadata": {},
   "outputs": [],
   "source": [
    "from fatecompass import differential_tf_activity\n",
    "differential_tf_activity(adata,'Labels')"
   ]
  },
  {
   "cell_type": "markdown",
   "id": "0130ee90",
   "metadata": {},
   "source": [
    "To identify lineage-specific regulators we suggest to explore the **density distribution of the some of criteria described above**; this exploration will guide the setting of thresholds for filtering. Below we provide examples of how to do the exploration.  \n",
    "\n",
    "The **FateCompass** function `ksdensity_fatecompass` allows to explore two criteria: z-score and variability over time:  \n",
    "\n",
    "1. The **z-score** is computed TF-wise, by plotting the density distribution we can visualize what is the most common value and the range. We suggest to set a threshold for the z-score higher than or equal to the most common value.  \n",
    "2. The **variability over time** is computed TF-wise for **every differentiation trajectory**. Similarly to the z-score, we can visualize the density distribution for the different trajectories. We suggest to set a threshold for the variability over time higher than or equal to the mean of the most common values for the different trajectories.  \n",
    "\n",
    "The inputs for `ksdensity_fatecompass` are:  \n",
    "1. **adata**: pre-proccessed and log normalized anndata object. \n",
    "2. **criteria**: criteria to plot `['z_score','std_tf_time']`.  \n",
    "3. **cell_types_key**: key of the observations clustering to consider. \n",
    "4. **trajectory**: for which trajectories you wish to plot the density distribution. It must be a key from cell_types_key.  \n",
    "\n",
    "The output is a plot with the density distribution and of the selected criteria, i.e., `['z_score','std_tf_time']`, and the variability over time for the selected trajectories. Also, a red vertical line indicating the suggested threshold for each criterion. "
   ]
  },
  {
   "cell_type": "code",
   "execution_count": null,
   "id": "df5c98d6",
   "metadata": {},
   "outputs": [],
   "source": [
    "from fatecompass import ksdensity_fatecompass\n",
    "ksdensity_fatecompass(adata, criterion=['std_tf_time','z_score'], cell_types_key='Labels', \n",
    "                      trajectory=['scbeta','ec','ph'])"
   ]
  },
  {
   "cell_type": "markdown",
   "id": "1f361fbb",
   "metadata": {},
   "source": [
    "To perform the **filtering and get the results in a data frame** the **FateCompass** function `get_df_differential_tf_activity` formats the results in a table.  \n",
    "\n",
    "The inputs for the `get_df_differential_tf_activity` function are:  \n",
    "1. **adata**: pre-proccessed and log normalized anndata object. \n",
    "2. **fates**: differentiation trajectories of interest. These keys must belong to the key of the observations clustering. \n",
    "3. **thresholds**: thresholds to perform the filtering and fate assignment in a dictionary format. Below there is an example of how to create the dictionary.  \n",
    "\n",
    "The output is a pandas data frame that can be exported, where the indices are the motif families, and the columns are:  \n",
    "- TFs: each TF beloging to the respective motif family.  \n",
    "- std_tf_time_*trajectory*: variability over time of the respective TF in the indicatated differentiation trajectory. This column will be present for each *trajectory*.  \n",
    "- max_cross_corr_*trajectory*: value of maximum cross correlation between TF activity and expression of the TF mRNA. This column will be present for each *trajectory*.  \n",
    "- time_max_cross_corr_*trajectory*: time lag at wich the maximum cross correlation occurs. This column will be present for each *trajectory*.  \n",
    "- z_score: value of z-score. \n",
    "- FateCompass_prediction: Name of the differentiation trajectory for which FateCompass pipeline predicts a role based.  "
   ]
  },
  {
   "cell_type": "code",
   "execution_count": null,
   "id": "95ed0a74",
   "metadata": {},
   "outputs": [],
   "source": [
    "thresholds = {'variability': 0.002, 'z_score': 1.5, 'correlation': 0.5}\n",
    "thresholds"
   ]
  },
  {
   "cell_type": "code",
   "execution_count": null,
   "id": "80256acb",
   "metadata": {},
   "outputs": [],
   "source": [
    "from fatecompass import get_df_differential_tf_activity\n",
    "df = get_df_differential_tf_activity(adata,fates=['scbeta','ec','ph'], \n",
    "                                     thresholds=thresholds)\n",
    "df"
   ]
  },
  {
   "cell_type": "code",
   "execution_count": null,
   "id": "11d4b9f0",
   "metadata": {},
   "outputs": [],
   "source": [
    "df.to_csv('output/human.txt', header=True, index=True, sep='\\t')"
   ]
  },
  {
   "cell_type": "code",
   "execution_count": null,
   "id": "f2f20631",
   "metadata": {},
   "outputs": [],
   "source": []
  },
  {
   "cell_type": "code",
   "execution_count": null,
   "id": "48aae5c9",
   "metadata": {},
   "outputs": [],
   "source": []
  },
  {
   "cell_type": "code",
   "execution_count": null,
   "id": "465e8a7c",
   "metadata": {},
   "outputs": [],
   "source": []
  },
  {
   "cell_type": "code",
   "execution_count": null,
   "id": "18ce7887",
   "metadata": {},
   "outputs": [],
   "source": [
    "x = adata.uns['time_lags']['scbeta']['NOTO_VSX2_DLX2_DLX6_NKX6-1']['NKX6-1']\n",
    "y = adata.uns['cross_corr']['scbeta']['NOTO_VSX2_DLX2_DLX6_NKX6-1']['NKX6-1']\n",
    "plt.plot(x,y)"
   ]
  },
  {
   "cell_type": "code",
   "execution_count": null,
   "id": "2b93c1e6",
   "metadata": {},
   "outputs": [],
   "source": []
  }
 ],
 "metadata": {
  "kernelspec": {
   "display_name": "fatecompass",
   "language": "python",
   "name": "fatecompass"
  },
  "language_info": {
   "codemirror_mode": {
    "name": "ipython",
    "version": 3
   },
   "file_extension": ".py",
   "mimetype": "text/x-python",
   "name": "python",
   "nbconvert_exporter": "python",
   "pygments_lexer": "ipython3",
   "version": "3.8.0"
  }
 },
 "nbformat": 4,
 "nbformat_minor": 5
}
